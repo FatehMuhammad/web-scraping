{
 "cells": [
  {
   "cell_type": "code",
   "execution_count": 4,
   "metadata": {},
   "outputs": [],
   "source": [
    "import pandas as pd"
   ]
  },
  {
   "cell_type": "markdown",
   "metadata": {},
   "source": [
    "# Two Main Requirements\n",
    "### For a given query item such as car covers, pants, mobile phones, mobile covers etc you need to provide the following two outputs for each query"
   ]
  },
  {
   "cell_type": "markdown",
   "metadata": {},
   "source": [
    "## GET USER INPUT HERE"
   ]
  },
  {
   "cell_type": "markdown",
   "metadata": {},
   "source": [
    "### Averages"
   ]
  },
  {
   "cell_type": "code",
   "execution_count": 7,
   "metadata": {},
   "outputs": [
    {
     "name": "stdout",
     "output_type": "stream",
     "text": [
      "Total Seller: 144419 \n",
      " Avg Price: 1491.75 \n",
      " Avg Reviews: 11.78 \n",
      " Avg Rating: 4.18\n"
     ]
    }
   ],
   "source": [
    "print(\"Total Seller:\",144419,\"\\n\",\"Avg Price:\",1491.75,\"\\n\",\"Avg Reviews:\",11.78,\"\\n\",\"Avg Rating:\",4.18)"
   ]
  },
  {
   "cell_type": "markdown",
   "metadata": {},
   "source": [
    "### First 5 Products (Starting from Top)"
   ]
  },
  {
   "cell_type": "code",
   "execution_count": 8,
   "metadata": {},
   "outputs": [
    {
     "data": {
      "text/html": [
       "<div>\n",
       "<style scoped>\n",
       "    .dataframe tbody tr th:only-of-type {\n",
       "        vertical-align: middle;\n",
       "    }\n",
       "\n",
       "    .dataframe tbody tr th {\n",
       "        vertical-align: top;\n",
       "    }\n",
       "\n",
       "    .dataframe thead th {\n",
       "        text-align: right;\n",
       "    }\n",
       "</style>\n",
       "<table border=\"1\" class=\"dataframe\">\n",
       "  <thead>\n",
       "    <tr style=\"text-align: right;\">\n",
       "      <th></th>\n",
       "      <th>Name</th>\n",
       "      <th>Daraz Mall?</th>\n",
       "      <th>Original Price</th>\n",
       "      <th>Discounted Price</th>\n",
       "      <th>Rating</th>\n",
       "      <th>Reviews</th>\n",
       "      <th>Seller Country</th>\n",
       "    </tr>\n",
       "  </thead>\n",
       "  <tbody>\n",
       "    <tr>\n",
       "      <th>0</th>\n",
       "      <td>Car Cover–Toyota Corolla 2008-2013 PVC+Cotton ...</td>\n",
       "      <td>Yes</td>\n",
       "      <td>6200</td>\n",
       "      <td>3900</td>\n",
       "      <td>5.00</td>\n",
       "      <td>5</td>\n",
       "      <td>Pakistan</td>\n",
       "    </tr>\n",
       "    <tr>\n",
       "      <th>1</th>\n",
       "      <td>Dextro Top Cover For Kia Sportage</td>\n",
       "      <td>Yes</td>\n",
       "      <td>5500</td>\n",
       "      <td>4899</td>\n",
       "      <td>4.50</td>\n",
       "      <td>12</td>\n",
       "      <td>Pakistan</td>\n",
       "    </tr>\n",
       "    <tr>\n",
       "      <th>2</th>\n",
       "      <td>Suzuki Mehran Top Cover Silver | Full Car Cove...</td>\n",
       "      <td>No</td>\n",
       "      <td>1999</td>\n",
       "      <td>949</td>\n",
       "      <td>5.00</td>\n",
       "      <td>38</td>\n",
       "      <td>Pakistan</td>\n",
       "    </tr>\n",
       "    <tr>\n",
       "      <th>3</th>\n",
       "      <td>Low Price Car Top Cover for Suzuki Cultus - Kh...</td>\n",
       "      <td>No</td>\n",
       "      <td>1889</td>\n",
       "      <td>1069</td>\n",
       "      <td>4.50</td>\n",
       "      <td>68</td>\n",
       "      <td>Pakistan</td>\n",
       "    </tr>\n",
       "    <tr>\n",
       "      <th>4</th>\n",
       "      <td>Suzuki Baleno Car Top Cover - Dust And Water P...</td>\n",
       "      <td>No</td>\n",
       "      <td>1899</td>\n",
       "      <td>1149</td>\n",
       "      <td>4.75</td>\n",
       "      <td>31</td>\n",
       "      <td>Pakistan</td>\n",
       "    </tr>\n",
       "  </tbody>\n",
       "</table>\n",
       "</div>"
      ],
      "text/plain": [
       "                                                Name Daraz Mall?  \\\n",
       "0  Car Cover–Toyota Corolla 2008-2013 PVC+Cotton ...         Yes   \n",
       "1                  Dextro Top Cover For Kia Sportage         Yes   \n",
       "2  Suzuki Mehran Top Cover Silver | Full Car Cove...          No   \n",
       "3  Low Price Car Top Cover for Suzuki Cultus - Kh...          No   \n",
       "4  Suzuki Baleno Car Top Cover - Dust And Water P...          No   \n",
       "\n",
       "   Original Price  Discounted Price  Rating  Reviews Seller Country  \n",
       "0            6200              3900    5.00        5       Pakistan  \n",
       "1            5500              4899    4.50       12       Pakistan  \n",
       "2            1999               949    5.00       38       Pakistan  \n",
       "3            1889              1069    4.50       68       Pakistan  \n",
       "4            1899              1149    4.75       31       Pakistan  "
      ]
     },
     "execution_count": 8,
     "metadata": {},
     "output_type": "execute_result"
    }
   ],
   "source": [
    "pd.read_csv('sample.csv')"
   ]
  },
  {
   "cell_type": "markdown",
   "metadata": {},
   "source": [
    "# REQUIREMENT # 3 = .PY FILE"
   ]
  }
 ],
 "metadata": {
  "kernelspec": {
   "display_name": "Python 3",
   "language": "python",
   "name": "python3"
  },
  "language_info": {
   "codemirror_mode": {
    "name": "ipython",
    "version": 3
   },
   "file_extension": ".py",
   "mimetype": "text/x-python",
   "name": "python",
   "nbconvert_exporter": "python",
   "pygments_lexer": "ipython3",
   "version": "3.7.4"
  }
 },
 "nbformat": 4,
 "nbformat_minor": 4
}
