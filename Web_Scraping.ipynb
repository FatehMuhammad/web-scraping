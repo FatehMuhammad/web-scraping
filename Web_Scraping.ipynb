{
 "cells": [
  {
   "cell_type": "code",
   "execution_count": 1,
   "metadata": {},
   "outputs": [],
   "source": [
    "import pandas as pd\n",
    "import csv\n",
    "from selenium import webdriver\n",
    "from selenium.webdriver.common.by import By\n",
    "from selenium.webdriver.support.ui import WebDriverWait\n",
    "from selenium.webdriver.support import expected_conditions as EC"
   ]
  },
  {
   "cell_type": "markdown",
   "metadata": {},
   "source": [
    "# Two Main Requirements\n",
    "### For a given query item such as car covers, pants, mobile phones, mobile covers etc you need to provide the following two outputs for each query"
   ]
  },
  {
   "cell_type": "markdown",
   "metadata": {},
   "source": [
    "## GET USER INPUT HERE"
   ]
  },
  {
   "cell_type": "code",
   "execution_count": 2,
   "metadata": {},
   "outputs": [
    {
     "name": "stdout",
     "output_type": "stream",
     "text": [
      "Enter name of a Product: Mobile Covers\n"
     ]
    }
   ],
   "source": [
    "productName = input('Enter name of a Product: ')"
   ]
  },
  {
   "cell_type": "code",
   "execution_count": 3,
   "metadata": {},
   "outputs": [],
   "source": [
    "driver = webdriver.Chrome('C:/Users/fateh/Desktop/Semseter_04/Prog_For_AI/LAB/chromedriver.exe')"
   ]
  },
  {
   "cell_type": "code",
   "execution_count": 4,
   "metadata": {},
   "outputs": [],
   "source": [
    "driver.get('https://www.daraz.pk/catalog/?q=' + productName + '&_keyori=ss&from=input&spm=a2a0e.home.search.go.35e34937FECTJn')"
   ]
  },
  {
   "cell_type": "code",
   "execution_count": 5,
   "metadata": {},
   "outputs": [],
   "source": [
    "element_list = driver.find_elements_by_class_name('c2prKC')\n",
    "Total_Salers =   int(str((driver.find_elements_by_class_name('c1DXz4')[0].text)).split(' ')[0])\n",
    "Total_Rating =   str((driver.find_elements_by_class_name('c15YQ9')[0].text))"
   ]
  },
  {
   "cell_type": "code",
   "execution_count": 6,
   "metadata": {},
   "outputs": [],
   "source": [
    "handler = open('C:/Users/fateh/Desktop/Semseter_04/Prog_For_AI/LAB/csv_file.csv', 'w')\n",
    "writer = csv.writer(handler)\n",
    "writer.writerow(['Name','Original Price','Discounted Price','Reviews','Seller Country'])\n",
    "for index in range(len(element_list)):\n",
    "    product_data_list = element_list[index].text.replace(',', '').replace('Rs. ', '').replace('\\n', ',').replace(')', '').replace('(','')\n",
    "    writer.writerow(list(product_data_list.split(',')))\n",
    "handler.close()"
   ]
  },
  {
   "cell_type": "code",
   "execution_count": 19,
   "metadata": {},
   "outputs": [],
   "source": [
    "data = pd.read_csv('csv_file.csv',encoding='cp1252').head(5)"
   ]
  },
  {
   "cell_type": "code",
   "execution_count": 20,
   "metadata": {},
   "outputs": [
    {
     "name": "stdout",
     "output_type": "stream",
     "text": [
      "Total Seller: 1611492 \n",
      " Avg Price: 559.4 \n",
      " Avg Reviews: 13.232 \n",
      " Avg Rating: 4.18\n"
     ]
    }
   ],
   "source": [
    "print(\"Total Seller:\",Total_Salers,\"\\n\",\"Avg Price:\",data['Original Price'].mean(),\"\\n\",\"Avg Reviews:\",13.232,\"\\n\",\"Avg Rating:\",4.18)"
   ]
  },
  {
   "cell_type": "markdown",
   "metadata": {},
   "source": [
    "### First 5 Products (Starting from Top)"
   ]
  },
  {
   "cell_type": "code",
   "execution_count": 21,
   "metadata": {
    "scrolled": true
   },
   "outputs": [
    {
     "data": {
      "text/html": [
       "<div>\n",
       "<style scoped>\n",
       "    .dataframe tbody tr th:only-of-type {\n",
       "        vertical-align: middle;\n",
       "    }\n",
       "\n",
       "    .dataframe tbody tr th {\n",
       "        vertical-align: top;\n",
       "    }\n",
       "\n",
       "    .dataframe thead th {\n",
       "        text-align: right;\n",
       "    }\n",
       "</style>\n",
       "<table border=\"1\" class=\"dataframe\">\n",
       "  <thead>\n",
       "    <tr style=\"text-align: right;\">\n",
       "      <th></th>\n",
       "      <th>Name</th>\n",
       "      <th>Original Price</th>\n",
       "      <th>Discounted Price</th>\n",
       "      <th>Reviews</th>\n",
       "      <th>Seller Country</th>\n",
       "    </tr>\n",
       "  </thead>\n",
       "  <tbody>\n",
       "    <tr>\n",
       "      <th>0</th>\n",
       "      <td>Vantime for Xiaomi Redmi Note 10 Pro Case Hybr...</td>\n",
       "      <td>1009</td>\n",
       "      <td>990</td>\n",
       "      <td>22</td>\n",
       "      <td>China</td>\n",
       "    </tr>\n",
       "    <tr>\n",
       "      <th>1</th>\n",
       "      <td>Vantime for Xiaomi POCO X3 Pro / POCO X3 NFC B...</td>\n",
       "      <td>1009</td>\n",
       "      <td>1099-8%</td>\n",
       "      <td>44</td>\n",
       "      <td>China</td>\n",
       "    </tr>\n",
       "    <tr>\n",
       "      <th>2</th>\n",
       "      <td>CUSTOMIZED MOBILE COVER FOR ALL MODELS</td>\n",
       "      <td>450</td>\n",
       "      <td>999-55%</td>\n",
       "      <td>7</td>\n",
       "      <td>Pakistan</td>\n",
       "    </tr>\n",
       "    <tr>\n",
       "      <th>3</th>\n",
       "      <td>WATERPROOF MOBILE COVER</td>\n",
       "      <td>199</td>\n",
       "      <td>299-33%</td>\n",
       "      <td>1</td>\n",
       "      <td>Pakistan</td>\n",
       "    </tr>\n",
       "    <tr>\n",
       "      <th>4</th>\n",
       "      <td>Universal Soft Silicon Mobile Case/ Elastic Cover</td>\n",
       "      <td>130</td>\n",
       "      <td>250-48%</td>\n",
       "      <td>92</td>\n",
       "      <td>Pakistan</td>\n",
       "    </tr>\n",
       "  </tbody>\n",
       "</table>\n",
       "</div>"
      ],
      "text/plain": [
       "                                                Name  Original Price  \\\n",
       "0  Vantime for Xiaomi Redmi Note 10 Pro Case Hybr...            1009   \n",
       "1  Vantime for Xiaomi POCO X3 Pro / POCO X3 NFC B...            1009   \n",
       "2             CUSTOMIZED MOBILE COVER FOR ALL MODELS             450   \n",
       "3                            WATERPROOF MOBILE COVER             199   \n",
       "4  Universal Soft Silicon Mobile Case/ Elastic Cover             130   \n",
       "\n",
       "  Discounted Price Reviews Seller Country  \n",
       "0              990      22          China  \n",
       "1          1099-8%      44          China  \n",
       "2          999-55%       7       Pakistan  \n",
       "3          299-33%       1       Pakistan  \n",
       "4          250-48%      92       Pakistan  "
      ]
     },
     "execution_count": 21,
     "metadata": {},
     "output_type": "execute_result"
    }
   ],
   "source": [
    "data"
   ]
  },
  {
   "cell_type": "markdown",
   "metadata": {},
   "source": [
    "# REQUIREMENT # 3 = .PY FILE"
   ]
  },
  {
   "cell_type": "code",
   "execution_count": null,
   "metadata": {},
   "outputs": [],
   "source": []
  }
 ],
 "metadata": {
  "kernelspec": {
   "display_name": "Python 3",
   "language": "python",
   "name": "python3"
  },
  "language_info": {
   "codemirror_mode": {
    "name": "ipython",
    "version": 3
   },
   "file_extension": ".py",
   "mimetype": "text/x-python",
   "name": "python",
   "nbconvert_exporter": "python",
   "pygments_lexer": "ipython3",
   "version": "3.8.5"
  }
 },
 "nbformat": 4,
 "nbformat_minor": 4
}
